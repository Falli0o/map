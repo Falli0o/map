{
 "cells": [
  {
   "cell_type": "markdown",
   "metadata": {},
   "source": [
    "## Part 2: Finding your way on a map"
   ]
  },
  {
   "cell_type": "markdown",
   "metadata": {},
   "source": [
    "In the second part of the homework, we ask you to implement the core parts of a routing algorithm, including the visualization of the route on a map. In other words you will be making something that maybe could pass as a very early prototype of Google Maps. And although everything will be kind-of bare-bones and in a much smaller scale compared to the route planners you find on the net, the basic principles are much the same.\n",
    "\n",
    "#### On grading\n",
    "\n",
    "The homework is graded on a scale from 0 to 100. For each question we indicate how many points you can get. If the answer is not completely correct but nonetheless on the right track, we may decide to give partial credit.\n",
    "\n",
    "For this and future homeworks we require **50 points** or more to pass. If you score below this threshold, the homework will count as failed. \n",
    "\n",
    "\n",
    "#### Required Python module\n",
    "\n",
    "The visualizations require a module called [Folium](https://github.com/wrobstory/folium). It is not a part of the Anaconda distribution, so you need to install it before you continue. Open a terminal and run:\n",
    "\n",
    "``\n",
    "pip install folium\n",
    "``\n",
    "\n",
    "If the command completed successfully, you should be able to execute the first cell without errors."
   ]
  },
  {
   "cell_type": "code",
   "execution_count": null,
   "metadata": {
    "collapsed": true
   },
   "outputs": [],
   "source": [
    "from IPython.display import HTML\n",
    "import folium\n",
    "import json\n",
    "import networkx as nx\n",
    "from folium import plugins"
   ]
  },
  {
   "cell_type": "markdown",
   "metadata": {},
   "source": [
    "Below are visualization helpers needed to display the routes on a map."
   ]
  },
  {
   "cell_type": "code",
   "execution_count": null,
   "metadata": {
    "collapsed": true
   },
   "outputs": [],
   "source": [
    "def inline_map(map):\n",
    "    \"\"\"\n",
    "    Embeds the HTML source of the map directly into the IPython notebook.\n",
    "    \n",
    "    This method will not work if the map depends on any files (json data). Also this uses\n",
    "    the HTML5 srcdoc attribute, which may not be supported in all browsers.\n",
    "    \"\"\"\n",
    "#     map._build_map()\n",
    "    return HTML('<iframe srcdoc=\"{srcdoc}\" style=\"width: 100%; height: 510px; border: none\"></iframe>'.format(srcdoc=map.HTML.replace('\"', '&quot;')))\n",
    "\n",
    "\n",
    "\n",
    "#Got from http://nbviewer.jupyter.org/github/python-visualization/folium/blob/master/examples/Polyline_text_path.ipynb\n",
    "\n",
    "\n",
    "def add_lines(folium_map, list_of_lines, filename, line_color='blue', line_weight=5):\n",
    "    \"\"\"\n",
    "    Draws a number of lines to the given map.\n",
    "    \n",
    "    An individual line consists of (lat, lon) coordinate pairs, which are connected by line segments.\n",
    "    The argument `list_of_lines` should be thus be a list of lists of coordinate pairs. For instance,\n",
    "    \n",
    "    [[(55.65, 12.59), (55.79, 12.79)], [(55.20, 12.50), (55.22, 12.62)]]\n",
    "    \n",
    "    will draw a two line, each made up of a single line segment.\n",
    "    \"\"\"\n",
    "    \n",
    "    \n",
    "\n",
    "\n",
    "    swap_multi_line_string = []\n",
    "    for line in list_of_lines:\n",
    "        swap_line = []\n",
    "        for lat, lon in line:\n",
    "            swap_line.append((lon, lat))\n",
    "        swap_multi_line_string.append(swap_line)\n",
    "\n",
    "    feature = {\"type\": \"MultiLineString\", \"coordinates\": swap_multi_line_string}\n",
    "    with open(filename, 'w') as f:\n",
    "        json.dump(feature, f)\n",
    "\n",
    "        \n",
    "    wind_line = folium.PolyLine(\n",
    "    list_of_lines,\n",
    "    weight=3,\n",
    "    color=line_color\n",
    ").add_to(folium_map)"
   ]
  },
  {
   "cell_type": "markdown",
   "metadata": {},
   "source": [
    "## Basic visualization\n",
    "\n",
    "More often than not, scientific programming involves juggling numbers and abstract concepts that are kind of hard to form a clear picture of in your head. Fortunately, though, maps are delightfully visual. Here we show you:\n",
    "\n",
    "1. How you can display a map in IPython;\n",
    "2. How to add markers, such as circles or tear drops, to the map; and\n",
    "3. How to draw lines. \n",
    "\n",
    "At present the support for map drawing in IPython is a little more experimental than we would have liked. If you cannot get the examples below to work, please try it in another browser. We have tested the notebook in a recent versions of Chrome and Safari."
   ]
  },
  {
   "cell_type": "code",
   "execution_count": null,
   "metadata": {},
   "outputs": [],
   "source": [
    "# Creates a map centered at `location`, which is a coordinate pair in decimal degrees.\n",
    "map_viz = folium.Map(location=[55.6632322, 12.5870087], zoom_start=15)\n",
    "map_viz"
   ]
  },
  {
   "cell_type": "code",
   "execution_count": null,
   "metadata": {},
   "outputs": [],
   "source": [
    "# Place a circle marker at DR byen\n",
    "dr_byen_loc = (55.658105, 12.590940)\n",
    "\n",
    "map_viz.add_child(folium.features.CircleMarker(dr_byen_loc, radius=5, color='red'))\n",
    "map_viz"
   ]
  },
  {
   "cell_type": "code",
   "execution_count": null,
   "metadata": {},
   "outputs": [],
   "source": [
    "# Draw a path between DR Byen, Islands Brygge Station, and Statens Seruminsitut\n",
    "# Note calls to `add_lines` places files in your homework folder, which you must include the upload.\n",
    "islands_brygge_loc = (55.663425, 12.585951)\n",
    "statens_serum_loc = (55.666037, 12.590951)\n",
    "add_lines(map_viz, [[dr_byen_loc, islands_brygge_loc, statens_serum_loc]], 'example_path.json')\n",
    "map_viz"
   ]
  },
  {
   "cell_type": "markdown",
   "metadata": {},
   "source": [
    "### Map data\n",
    "\n",
    "You will be working with freely available map data from the collaborative [Open Street Map](http://www.openstreetmap.org/) service. We have exported a small part of the dataset covering the area around the southern campus of the University of Copenhagen. You will find this in the file `bryggen.osm`. \n",
    "\n",
    "Additionally, we provide a loader function `read_way_network` from the module `osm` which parses the Open Street Map data and returns a `networkx` graph. The nodes in the graph represent points on the map, and the edges are roads or, more generally, *ways* between these points.\n",
    "\n",
    "In the cell below we read in the network and bind it to the variable `bryggen`. We also import the function `gc_dist`, which calculates the great-circle distance between two points on the map."
   ]
  },
  {
   "cell_type": "code",
   "execution_count": null,
   "metadata": {},
   "outputs": [],
   "source": [
    "from osm import read_way_network, gc_dist\n",
    "bryggen = read_way_network(\"bryggen.osm\")\n",
    "type(bryggen)"
   ]
  },
  {
   "cell_type": "markdown",
   "metadata": {},
   "source": [
    "### Exercise 1.1: Properties of nodes and edges (10 pts)\n",
    "\n",
    "To get a feel for how the way network is represented in the graph, please retrieve **5** nodes from the `bryggen` graph at random (you can do it manually, setting five fixed numbers) and for each of them output the following: \n",
    "\n",
    "- Node id\n",
    "- Data associated with the node\n",
    "- IDs of outgoing edges\n",
    "- Data associated with the outgoing edges\n",
    "\n",
    "At this point we also advice you to go the provided `osm.py` file and familiarize yourself with the source code, especially how the class `Way` is defined."
   ]
  },
  {
   "cell_type": "code",
   "execution_count": null,
   "metadata": {},
   "outputs": [],
   "source": [
    " #YOUR CODE HERE\n",
    "print (nx.info(bryggen))\n",
    "import numpy as np\n",
    "poolnumber = bryggen.number_of_nodes()\n",
    "#print (poolnumber)\n",
    "print (\"\")\n",
    "randomchoice = np.random.choice(poolnumber, size = 5)\n",
    "for i in randomchoice:\n",
    "    print (\"Node ID: \", bryggen.nodes()[i]) #print node id\n",
    "    print (\"Location: \", bryggen.node[bryggen.nodes()[i]]) #print location\n",
    "    #print (bryggen.node[bryggen.nodes()[i]].values())\n",
    "    print (\"Data: \", bryggen.out_edges(bryggen.nodes()[i],data = True))"
   ]
  },
  {
   "cell_type": "markdown",
   "metadata": {},
   "source": [
    "### Exercise 1.2: Find nearest node (10 pts)\n",
    "\n",
    "Pick a point as close to the center of Tietgen Kollegiet as possible and retrieve the coordinates. You may use Google Maps for this purpose, as explained [here](https://support.google.com/maps/answer/18539?hl=en).\n",
    "\n",
    "Once you have the coordinates of the point, you should implement a function `find_nearest_node`, which takes the `networkx` graph as well as the latitude and longtitude of a point as arguments. The return value should be the the node id of the nearest node on the map, measured by great circle distance. In other words, the function should map from a set of coordinates to the nearest way intersection.\n",
    "\n",
    "To verify that your function works as expected, place a circle marker in the middle of Tietgen Kollegiet and draw a line from that point to the way intersection. Display the map."
   ]
  },
  {
   "cell_type": "code",
   "execution_count": null,
   "metadata": {},
   "outputs": [],
   "source": [
    "# Your code here\n",
    "#55.660800, 12.589695\n",
    "tietgen_kollegiet = [55.660800, 12.589695]\n",
    "map_nearest = folium.Map(location=tietgen_kollegiet, zoom_start=15)\n",
    "map_nearest.add_child(folium.features.CircleMarker(tietgen_kollegiet, radius=5, color='blue'))\n",
    "node_lat = []\n",
    "node_lon = []\n",
    "for i in randomchoice:\n",
    "    node_lat.append(list(bryggen.node[bryggen.nodes()[i]].values())[0])\n",
    "    node_lon.append(list(bryggen.node[bryggen.nodes()[i]].values())[1])\n",
    "def find_nearest_node (graph, lat, lon):\n",
    "    node_lat = []\n",
    "    node_lon = []\n",
    "    for i in range(bryggen.number_of_nodes()):\n",
    "        node_lat.append(list(bryggen.node[bryggen.nodes()[i]].values())[0])\n",
    "        node_lon.append(list(bryggen.node[bryggen.nodes()[i]].values())[1])\n",
    "    \n",
    "    dis = []\n",
    "    for i in range(bryggen.number_of_nodes()):\n",
    "        distance = gc_dist(lat, lon, node_lat[i], node_lon[i])\n",
    "        dis.append((distance, i))\n",
    "    #print (sorted(dis))\n",
    "    #print (dis)\n",
    "    nearest = (node_lat[sorted(dis)[0][1]], node_lon[sorted(dis)[0][1]])\n",
    "    print (nearest)\n",
    "    map_nearest.add_child(folium.features.CircleMarker(nearest, radius=5, color='red'))\n",
    "    return nearest\n",
    "    #return map_viz\n",
    "find_nearest_node (bryggen, tietgen_kollegiet[0], tietgen_kollegiet[1])\n",
    "map_nearest"
   ]
  },
  {
   "cell_type": "markdown",
   "metadata": {},
   "source": [
    "### Exercise 1.3 (15 pts)\n",
    "\n",
    "Find and draw the shortest path in number of nodes travelled from `start_loc` to `goal_loc`. Use the **depth-first** search algorithm programmed in class. You will have to modify it slightly."
   ]
  },
  {
   "cell_type": "code",
   "execution_count": null,
   "metadata": {},
   "outputs": [],
   "source": [
    "start_loc = (55.663811, 12.596087)\n",
    "goal_loc = (55.665372, 12.578170)\n",
    "\n",
    "creatdic = {}\n",
    "for i in range(bryggen.number_of_nodes()):\n",
    "    #print (i)\n",
    "    creatdic[tuple(bryggen.node[bryggen.nodes()[i]].values())] = bryggen.nodes()[i]\n",
    "#print (creatdic)\n",
    "\n",
    "for key, value in creatdic.items():\n",
    "    #print (key)\n",
    "    if start_loc == key:\n",
    "        print (value)\n",
    "    if goal_loc == key:\n",
    "        print (value)\n",
    "\n",
    "#There are no nodes for the start and goal locations. Try to find the nearest nodes.\n",
    "near_start = find_nearest_node (bryggen, start_loc[0], start_loc[1])\n",
    "near_goal = find_nearest_node (bryggen, goal_loc[0], goal_loc[1])\n",
    "for key, value in creatdic.items():\n",
    "    #print (key)\n",
    "    if near_start == key:\n",
    "        print (\"nearest start node:\")\n",
    "        print (value)\n",
    "        nearest_start_node = value\n",
    "    if near_goal == key:\n",
    "        print (\"nearest goal node:\")\n",
    "        print (value)\n",
    "        nearest_goal_node = value"
   ]
  },
  {
   "cell_type": "code",
   "execution_count": null,
   "metadata": {},
   "outputs": [],
   "source": [
    "def get_children(graph, node):\n",
    "    children = []\n",
    "    \n",
    "    for tuples in bryggen.out_edges(node):\n",
    "        children.append(tuples[1])\n",
    "    return children\n",
    "\n",
    "get_children(bryggen, nearest_start_node)\n",
    "get_children(bryggen, nearest_goal_node)"
   ]
  },
  {
   "cell_type": "code",
   "execution_count": null,
   "metadata": {},
   "outputs": [],
   "source": [
    "data = bryggen.out_edges(bryggen.nodes())\n",
    "#print (data)\n",
    "graph_nodes = {}\n",
    "#key = np.unique([i[0] for i in data])\n",
    "key = [i[0] for i in data]\n",
    "#print (key)\n",
    "len(key)\n",
    "for each_node in key:\n",
    "    values = []\n",
    "    \n",
    "    for pair in data:\n",
    "        if pair[0] == each_node:\n",
    "            values.append(pair[1])\n",
    "    graph_nodes[each_node] = values\n",
    "print (graph_nodes)"
   ]
  },
  {
   "cell_type": "code",
   "execution_count": null,
   "metadata": {},
   "outputs": [],
   "source": [
    "#copied the code from the ipynb in the class\n",
    "def dfs(graph, goal, start):\n",
    "    to_visit = [start]    \n",
    "    visited = set()\n",
    "    while (len(to_visit) != 0):\n",
    "        current_state = to_visit.pop(0)\n",
    "        if current_state == goal:\n",
    "            return current_state\n",
    "        else:\n",
    "            current_children = get_children(graph, current_state)\n",
    "            visited.add (current_state)\n",
    "            next_nodes = [node for node in current_children if node not in visited]\n",
    "            to_visit = next_nodes + to_visit\n",
    "    return None\n",
    "\n",
    "print(dfs(graph_nodes, nearest_goal_node, nearest_start_node))"
   ]
  },
  {
   "cell_type": "code",
   "execution_count": null,
   "metadata": {},
   "outputs": [],
   "source": [
    "#copied the code from the ipynb in the class\n",
    "def dfs_path(graph, goal, start):\n",
    "    current_path = [start]\n",
    "    to_visit = [(start, current_path)]\n",
    "    visited = set()\n",
    "    while (len(to_visit) != 0):\n",
    "        current_state, current_path = to_visit.pop(0)\n",
    "        if current_state == goal:\n",
    "            return current_path\n",
    "        else:\n",
    "            current_children = get_children(graph, current_state)\n",
    "            visited.add (current_state)\n",
    "            next_nodes = [(node, current_path+[node]) for node in current_children if node not in visited]\n",
    "            to_visit = next_nodes + to_visit\n",
    "    return None\n",
    "re_dfs_path = dfs_path(graph_nodes, nearest_goal_node, nearest_start_node)\n",
    "print(dfs_path(graph_nodes, nearest_goal_node, nearest_start_node))"
   ]
  },
  {
   "cell_type": "code",
   "execution_count": null,
   "metadata": {},
   "outputs": [],
   "source": [
    " #YOUR CODE HERE\n",
    "#get location from nodes\n",
    "path_loc = []\n",
    "for node in re_dfs_path:\n",
    "    path_loc.append(tuple(bryggen.node[node].values()))\n",
    "#print (path_loc)\n",
    "       \n",
    "map_dfs = folium.Map(location=start_loc, zoom_start=15)\n",
    "add_lines(map_dfs, [path_loc], 'example_path.json')\n",
    "map_dfs.add_child(folium.features.CircleMarker(start_loc, radius=5, color='orange'))\n",
    "map_dfs.add_child(folium.features.CircleMarker(goal_loc, radius=5, color='black'))\n",
    "#nearest_start_loc = list(bryggen.node[nearest_start_node].values())\n",
    "\n",
    "map_dfs"
   ]
  },
  {
   "cell_type": "markdown",
   "metadata": {},
   "source": [
    "### Exercise 1.4 (5 pts)\n",
    "\n",
    "Find and draw the shortest path in number of nodes travelled from `start_loc` to `goal_loc`. Use the **breadth-first** search algorithm programmed in class."
   ]
  },
  {
   "cell_type": "code",
   "execution_count": null,
   "metadata": {},
   "outputs": [],
   "source": [
    " #YOUR CODE HERE\n",
    "#copied the code from the ipynb in the class\n",
    "def bfs_path(graph, goal, start):\n",
    "    current_path = [start]\n",
    "    to_visit = [(start, current_path)] \n",
    "    visited = set()\n",
    "    while (len(to_visit) != 0):\n",
    "        current_state, current_path = to_visit.pop(0)\n",
    "        if current_state == goal:\n",
    "            return current_path\n",
    "        else:\n",
    "            current_children = get_children(graph, current_state)\n",
    "            visited.add (current_state)\n",
    "            next_nodes = [(node, current_path+[node]) for node in current_children if node not in visited]\n",
    "            to_visit = to_visit + next_nodes\n",
    "    return None\n",
    "\n",
    "re_bfs_path = bfs_path(graph_nodes, nearest_goal_node, nearest_start_node)\n",
    "print(bfs_path(graph_nodes, nearest_goal_node, nearest_start_node))\n",
    "\n",
    "bfs_path_loc = []\n",
    "for node in re_bfs_path:\n",
    "    bfs_path_loc.append(tuple(bryggen.node[node].values()))\n",
    "\n",
    "map_bfs = folium.Map(location=start_loc, zoom_start=15)\n",
    "add_lines(map_bfs, [bfs_path_loc], 'example_path.json')\n",
    "\n",
    "map_bfs.add_child(folium.features.CircleMarker(start_loc, radius=5, color='orange'))\n",
    "map_bfs.add_child(folium.features.CircleMarker(goal_loc, radius=5, color='black'))\n",
    "#add the line between start and locations to the neareat nodes\n",
    "nearest_start_loc = list(bryggen.node[nearest_start_node].values())\n",
    "#add_lines(map_dfs, [start_loc, nearest_start_loc], 'example_path.json')\n",
    "map_bfs"
   ]
  },
  {
   "cell_type": "markdown",
   "metadata": {},
   "source": [
    "### Exercise 1.5 (10 pts)\n",
    "\n",
    "Find and draw the shortest path in meters from `start_loc` to `goal_loc`. Use A\\* search (including heuristic function).\n",
    "\n",
    "You can use the A\\* implementation available in `networkx`."
   ]
  },
  {
   "cell_type": "code",
   "execution_count": null,
   "metadata": {},
   "outputs": [],
   "source": [
    "#Here I applied several heuristic function to try to find the shortest path.\n",
    "#Define the get_distance function to return the meters distance of path.\n",
    "def get_distance(nodelist):\n",
    "    dis =[]\n",
    "    for i in range(len(nodelist)):\n",
    "        if i + 1 < len(nodelist):\n",
    "            dis.append(bryggen.edge[nodelist[i]][nodelist[i+1]]['dist'])\n",
    "\n",
    "    return sum(dis)\n",
    "\n",
    "#define get path function.\n",
    "def get_path(nodelist):\n",
    "    path = []\n",
    "    for node in nodelist:\n",
    "        path.append(tuple(bryggen.node[node].values()))\n",
    "    return path\n",
    "\n",
    "#Create the new graph with weighted edges\n",
    "graph_weighted = []\n",
    "for tuples in data:\n",
    "    graph_weighted.append((tuples[0],tuples[1],{\"weight\": bryggen.edge[tuples[0]][tuples[1]]['dist']}))\n",
    "\n",
    "G = nx.DiGraph(data=graph_weighted)\n",
    "len(G.nodes())\n",
    "\n",
    "#Create a map to show the different method.\n",
    "test_map = folium.Map(location=start_loc, zoom_start=15)\n",
    "test_map.add_child(folium.features.CircleMarker(start_loc, radius=5, color='orange'))\n",
    "test_map.add_child(folium.features.CircleMarker(goal_loc, radius=5, color='black'))"
   ]
  },
  {
   "cell_type": "code",
   "execution_count": null,
   "metadata": {},
   "outputs": [],
   "source": [
    "#define the heuristic function with different method.\n",
    "#1. using bsf\n",
    "def bsf_distance(neighbor, goal):\n",
    "    path = bfs_path(graph = bryggen, goal = goal, start = neighbor)\n",
    "    #for node in path:\n",
    "    return get_distance(path)\n",
    "        \n",
    "bsf_method = nx.astar_path(G, nearest_start_node, nearest_goal_node, heuristic=bsf_distance, weight='weight')\n",
    "\n",
    "#print (bsf_method)\n",
    "add_lines(test_map, [get_path(bsf_method)], 'example_path.json')\n",
    "get_distance(bsf_method)"
   ]
  },
  {
   "cell_type": "code",
   "execution_count": null,
   "metadata": {},
   "outputs": [],
   "source": [
    "#2. using great circle distance\n",
    "def gc_dist_heuristic(neighbor, goal):\n",
    "    #dis = graph_nodes[start][goal]['dist']\n",
    "    neighbor_lat = tuple(bryggen.node[neighbor].values())[0]\n",
    "    neighbor_lon = tuple(bryggen.node[neighbor].values())[1]\n",
    "    goal_lat = tuple(bryggen.node[goal].values())[0]\n",
    "    goal_lon = tuple(bryggen.node[goal].values())[1]\n",
    "    dis = gc_dist(neighbor_lat, neighbor_lon, goal_lat, goal_lon)\n",
    "    return dis\n",
    "gc_method = nx.astar_path(G, nearest_start_node, nearest_goal_node, heuristic=gc_dist_heuristic, weight='weight')\n",
    "add_lines(test_map, [get_path(gc_method)], 'example_path.json')\n",
    "get_distance(gc_method)"
   ]
  },
  {
   "cell_type": "code",
   "execution_count": null,
   "metadata": {},
   "outputs": [],
   "source": [
    "#3. Using the shortest path.\n",
    "def shortest_path(neighbor, goal):\n",
    "    path = nx.shortest_path(G, neighbor, goal, weight='weight')\n",
    "    return get_distance(path)\n",
    "\n",
    "sp_method = nx.astar_path(G, nearest_start_node, nearest_goal_node, heuristic=shortest_path, weight='weight')\n",
    "#sp_method = nx.astar_path(bryggen, nearest_start_node, nearest_goal_node, heuristic=shortest_path, weight='weight')\n",
    "get_distance(sp_method)"
   ]
  },
  {
   "cell_type": "code",
   "execution_count": null,
   "metadata": {},
   "outputs": [],
   "source": [
    "#use the shorest path function directly.\n",
    "ss = nx.shortest_path(bryggen, nearest_start_node, nearest_goal_node, weight='dist')\n",
    "print (ss)\n",
    "get_distance(ss)"
   ]
  },
  {
   "cell_type": "code",
   "execution_count": null,
   "metadata": {},
   "outputs": [],
   "source": [
    "test_map\n",
    "#When I change the parameter of weight, the result will also change.\n",
    "#However, the value of 1361.8861932124305 meters is the shortest path that I can find.\n"
   ]
  },
  {
   "cell_type": "code",
   "execution_count": null,
   "metadata": {
    "scrolled": true
   },
   "outputs": [],
   "source": [
    "# A* search\n",
    "help(nx.astar_path)\n",
    "\n",
    "# Your code here\n"
   ]
  }
 ],
 "metadata": {
  "anaconda-cloud": {},
  "kernelspec": {
   "display_name": "Python 3",
   "language": "python",
   "name": "python3"
  },
  "language_info": {
   "codemirror_mode": {
    "name": "ipython",
    "version": 3
   },
   "file_extension": ".py",
   "mimetype": "text/x-python",
   "name": "python",
   "nbconvert_exporter": "python",
   "pygments_lexer": "ipython3",
   "version": "3.6.1"
  }
 },
 "nbformat": 4,
 "nbformat_minor": 1
}
